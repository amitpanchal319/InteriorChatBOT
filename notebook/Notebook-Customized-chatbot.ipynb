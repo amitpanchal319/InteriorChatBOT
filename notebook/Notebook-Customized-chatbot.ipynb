{
 "cells": [
  {
   "cell_type": "code",
   "execution_count": 11,
   "metadata": {
    "id": "hMahgI9rFrVP"
   },
   "outputs": [],
   "source": [
    "!pip install -q groq langchain_community langchain_groq"
   ]
  },
  {
   "cell_type": "code",
   "execution_count": 12,
   "metadata": {
    "id": "nyNIbjKvFscj"
   },
   "outputs": [],
   "source": [
    "import os\n",
    "from groq import Groq\n",
    "from langchain.prompts import PromptTemplate\n",
    "from langchain.memory import ConversationBufferMemory\n",
    "from langchain_groq import ChatGroq"
   ]
  },
  {
   "cell_type": "code",
   "execution_count": 13,
   "metadata": {
    "id": "pRRtW9C4FsZk"
   },
   "outputs": [],
   "source": [
    "GROQ_API_KEY= \"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\"  # Replace with your actual API key"
   ]
  },
  {
   "cell_type": "code",
   "execution_count": 14,
   "metadata": {
    "id": "bYblpiSlFsVV"
   },
   "outputs": [],
   "source": [
    "llm = ChatGroq(\n",
    "    api_key =GROQ_API_KEY,\n",
    "    model= \"llama3-8b-8192\",\n",
    "    temperature=0,\n",
    "    max_tokens=None,\n",
    "    timeout=None,\n",
    "    max_retries=2,\n",
    "    # other params...\n",
    ")"
   ]
  },
  {
   "cell_type": "code",
   "execution_count": 15,
   "metadata": {
    "id": "xQqFiYMxFsTA"
   },
   "outputs": [],
   "source": [
    "custom_prompt_template_for_chatbot = \"\"\"\n",
    "You are a knowledgeable assistant specializing in Data Science and Artificial Intelligence (AI).\n",
    "\n",
    "Your primary objective is to assist students by providing clear, concise, and accurate answers to their questions specifically related to Data Science and AI. This includes, but is not limited to, the following topics:\n",
    "- Programming languages and tools: Python, SQL (MySQL, SQLite, MongoDB)\n",
    "- Data visualization tools: Power BI, Tableau\n",
    "- Statistical concepts and methodologies\n",
    "- Machine Learning (ML) techniques and frameworks\n",
    "- MLFlow for managing machine learning workflows\n",
    "- Containerization with Docker\n",
    "- Deep Learning concepts and frameworks\n",
    "- Natural Language Processing (NLP)\n",
    "- Generative AI technologies\n",
    "- Skills required for a career in Data Science and AI\n",
    "\n",
    "When responding, ensure that your answers are focused and straightforward, avoiding unnecessary details. If users ask complex questions, break down your responses into manageable parts and provide step-by-step explanations when needed.\n",
    "\n",
    "Always be polite and encouraging, ensuring that you provide accurate information at all times.\n",
    "\n",
    "If a question is asked that falls outside the realm of Data Science and AI or does not relate to the topics mentioned above, respond with a polite message indicating that the question is unrelated. For example: \"I'm sorry, but that topic is outside the scope of Data Science and AI. I'm unable to provide an answer.\"\n",
    "\n",
    "Remember previous exchanges in the conversation to provide better context for your responses.\n",
    "\n",
    "History: {history}\n",
    "\n",
    "Context: {context}\n",
    "\n",
    "Question: {question}\n",
    "\"\"\"\n"
   ]
  },
  {
   "cell_type": "code",
   "execution_count": 16,
   "metadata": {
    "id": "lbolIiehGGve"
   },
   "outputs": [],
   "source": [
    "prompt = PromptTemplate(template=custom_prompt_template_for_chatbot,\n",
    "                            input_variables=['history','context', 'question'])\n",
    "\n",
    "memory = ConversationBufferMemory(input_key=\"question\", memory_key=\"history\")"
   ]
  },
  {
   "cell_type": "code",
   "execution_count": 17,
   "metadata": {
    "id": "8AIPX9XxK6e7"
   },
   "outputs": [],
   "source": [
    "# Function to format output in Markdown\n",
    "def format_output(response):\n",
    "    if isinstance(response, str):\n",
    "        # Check if the response contains code (you can customize this check)\n",
    "        if response.startswith(\"``````\"):\n",
    "            return response  # Return as is if it's already in code block\n",
    "        else:\n",
    "            # Format as markdown for theoretical responses\n",
    "            formatted_response = f\"# Response\\n\\n{response}\"\n",
    "            return formatted_response\n",
    "    return response"
   ]
  },
  {
   "cell_type": "code",
   "execution_count": 18,
   "metadata": {
    "id": "VGXuobIsGUI9"
   },
   "outputs": [],
   "source": [
    "chain = prompt | llm\n",
    "\n",
    "def invoke_chain(question):\n",
    "    response = chain.invoke({\"history\": memory, \"context\": \"\", \"question\": question})\n",
    "    return format_output(response)"
   ]
  },
  {
   "cell_type": "code",
   "execution_count": 19,
   "metadata": {
    "id": "9Up-jyB4zwLA"
   },
   "outputs": [
    {
     "name": "stdout",
     "output_type": "stream",
     "text": [
      "content=\"I'd be happy to help you with that!\\n\\nTo train a linear regression model in Python, we'll use the scikit-learn library. Here's a step-by-step code to get you started:\\n```python\\nimport pandas as pd\\nfrom sklearn.model_selection import train_test_split\\nfrom sklearn.linear_model import LinearRegression\\nfrom sklearn.metrics import mean_squared_error\\n\\n# Load your dataset (replace with your own data)\\ndf = pd.read_csv('your_data.csv')\\n\\n# Split the data into features (X) and target (y)\\nX = df.drop('target_column', axis=1)  # replace with your target column name\\ny = df['target_column']  # replace with your target column name\\n\\n# Split the data into training and testing sets\\nX_train, X_test, y_train, y_test = train_test_split(X, y, test_size=0.2, random_state=42)\\n\\n# Create a linear regression model\\nmodel = LinearRegression()\\n\\n# Train the model on the training data\\nmodel.fit(X_train, y_train)\\n\\n# Make predictions on the testing data\\ny_pred = model.predict(X_test)\\n\\n# Evaluate the model using mean squared error\\nmse = mean_squared_error(y_test, y_pred)\\nprint(f'Mean Squared Error: {mse:.2f}')\\n```\\nHere's what the code does:\\n\\n1. Loads your dataset using `pd.read_csv`.\\n2. Splits the data into features (X) and target (y) using `drop` and `iloc`.\\n3. Splits the data into training and testing sets using `train_test_split`.\\n4. Creates a linear regression model using `LinearRegression`.\\n5. Trains the model on the training data using `fit`.\\n6. Makes predictions on the testing data using `predict`.\\n7. Evaluates the model using mean squared error (MSE) using `mean_squared_error`.\\n\\nNote that you'll need to replace `'your_data.csv'` with the actual path to your dataset file, and `'target_column'` with the name of the column you want to predict.\\n\\nI hope this helps! Let me know if you have any questions or need further assistance.\" additional_kwargs={} response_metadata={'token_usage': {'completion_tokens': 443, 'prompt_tokens': 328, 'total_tokens': 771, 'completion_time': 0.369166667, 'prompt_time': 0.121665004, 'queue_time': 0.33241486600000003, 'total_time': 0.490831671}, 'model_name': 'llama3-8b-8192', 'system_fingerprint': 'fp_dadc9d6142', 'finish_reason': 'stop', 'logprobs': None} id='run--980e3587-0e89-4d9b-aabc-eacd2e9dfea4-0' usage_metadata={'input_tokens': 328, 'output_tokens': 443, 'total_tokens': 771}\n"
     ]
    }
   ],
   "source": [
    "question = \"write a python code to train linear regression model from taking data till predictions\"\n",
    "response = invoke_chain(question)\n",
    "print(response)"
   ]
  },
  {
   "cell_type": "code",
   "execution_count": 20,
   "metadata": {
    "id": "Ga82r2aBofnV"
   },
   "outputs": [],
   "source": [
    "while True:\n",
    "    question = input(\"Ask a question (or type 'exit' to quit): \")\n",
    "    if question.lower() == 'exit':\n",
    "        break\n",
    "\n",
    "    response = invoke_chain(question)\n",
    "    print(response)"
   ]
  }
 ],
 "metadata": {
  "colab": {
   "authorship_tag": "ABX9TyNixWR3imGiPaPLD/71sALg",
   "mount_file_id": "1j2D-q6AWY1AXCSv7B-Qj5sEeiQeAzo9X",
   "private_outputs": true,
   "provenance": []
  },
  "kernelspec": {
   "display_name": "rag_env",
   "language": "python",
   "name": "python3"
  },
  "language_info": {
   "codemirror_mode": {
    "name": "ipython",
    "version": 3
   },
   "file_extension": ".py",
   "mimetype": "text/x-python",
   "name": "python",
   "nbconvert_exporter": "python",
   "pygments_lexer": "ipython3",
   "version": "3.9.21"
  }
 },
 "nbformat": 4,
 "nbformat_minor": 0
}
